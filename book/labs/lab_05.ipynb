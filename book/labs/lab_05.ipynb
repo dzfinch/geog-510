{
 "cells": [
  {
   "cell_type": "markdown",
   "id": "0",
   "metadata": {},
   "source": [
    "# Lab 5\n",
    "\n",
    "## Exercise 1: Calculating Distances with Functions\n",
    "\n",
    "- Define a function `calculate_distance` that takes two geographic coordinates (latitude and longitude) and returns the distance between them using the Haversine formula.\n",
    "- Use this function to calculate the distance between multiple pairs of coordinates."
   ]
  },
  {
   "cell_type": "code",
   "execution_count": 4,
   "id": "1",
   "metadata": {},
   "outputs": [
    {
     "name": "stdout",
     "output_type": "stream",
     "text": [
      "278.4581750754194 km\n"
     ]
    }
   ],
   "source": [
    "import math\n",
    "\n",
    "def calculate_distance(lat1, lon1, lat2, lon2):\n",
    "    # Convert latitude and longitude from degrees to radians\n",
    "    lat1, lon1, lat2, lon2 = map(math.radians, [lat1, lon1, lat2, lon2])\n",
    "\n",
    "    # Haversine formula\n",
    "    dlat = lat2 - lat1\n",
    "    dlon = lon2 - lon1\n",
    "    a = math.sin(dlat / 2)**2 + math.cos(lat1) * math.cos(lat2) * math.sin(dlon / 2)**2\n",
    "    c = 2 * math.asin(math.sqrt(a))\n",
    "    \n",
    "    # Radius of Earth in kilometers\n",
    "    r = 6371.0\n",
    "    \n",
    "    # Calculate the result\n",
    "    return c * r\n",
    "\n",
    "# Example\n",
    "lat1 = 52.2296756\n",
    "lon1 = 21.0122287\n",
    "lat2 = 52.406374\n",
    "lon2 = 16.9251681\n",
    "distance = calculate_distance(lat1, lon1, lat2, lon2)\n",
    "print((f\"{distance} km\"))"
   ]
  },
  {
   "cell_type": "markdown",
   "id": "2",
   "metadata": {},
   "source": [
    "## Exercise 2: Batch Distance Calculation\n",
    "\n",
    "- Create a function `batch_distance_calculation` that accepts a list of coordinate pairs and returns a list of distances between consecutive pairs.\n",
    "- Test the function with a list of coordinates representing several cities."
   ]
  },
  {
   "cell_type": "code",
   "execution_count": 15,
   "id": "3",
   "metadata": {},
   "outputs": [
    {
     "name": "stdout",
     "output_type": "stream",
     "text": [
      "Distance from point 0 to point 1: 278.46 km\n",
      "Distance from point 1 to point 2: 171.71 km\n",
      "Distance from point 2 to point 3: 371.65 km\n",
      "Distance from point 3 to point 4: 235.69 km\n",
      "Distance from point 4 to point 5: 239.93 km\n"
     ]
    }
   ],
   "source": [
    "import math\n",
    "\n",
    "def batch_distance_calculation(points):\n",
    "    distances = []\n",
    "    for i in range(len(points) - 1):\n",
    "        point1 = points[i]\n",
    "        point2 = points[i + 1]\n",
    "        \n",
    "        # Convert latitude and longitude from degrees to radians\n",
    "        lat1, lon1 = map(math.radians, point1)\n",
    "        lat2, lon2 = map(math.radians, point2)\n",
    "\n",
    "        # Haversine formula\n",
    "        dlat = lat2 - lat1\n",
    "        dlon = lon2 - lon1\n",
    "        a = math.sin(dlat / 2)**2 + math.cos(lat1) * math.cos(lat2) * math.sin(dlon / 2)**2\n",
    "        c = 2 * math.asin(math.sqrt(a))\n",
    "        \n",
    "        # Radius of Earth in kilometers\n",
    "        r = 6371.0\n",
    "        \n",
    "        # Calculate the result\n",
    "        distance = c * r\n",
    "        distances.append(distance)\n",
    "    \n",
    "    return distances\n",
    "\n",
    "# Example usage\n",
    "points = [\n",
    "    (52.2296756, 21.0122287),  # Warsaw\n",
    "    (52.406374, 16.9251681),   # Poznan\n",
    "    (53.3498053, 18.951076),   # Torun\n",
    "    (50.0646501, 19.9449799),  # Krakow\n",
    "    (51.1078852, 17.0385376),  # Wroclaw\n",
    "    (50.046943, 19.997711),    # Krakow\n",
    "]\n",
    "\n",
    "distances = batch_distance_calculation(points)\n",
    "for i, distance in enumerate(distances):\n",
    "    print(f\"Distance from point {i} to point {i + 1}: {distance:.2f} km\")"
   ]
  },
  {
   "cell_type": "markdown",
   "id": "4",
   "metadata": {},
   "source": [
    "## Exercise 3: Creating and Using a Point Class\n",
    "\n",
    "- Define a `Point` class to represent a geographic point with attributes `latitude`, `longitude`, and `name`.\n",
    "- Add a method `distance_to` that calculates the distance from one point to another.\n",
    "- Instantiate several `Point` objects and calculate the distance between them."
   ]
  },
  {
   "cell_type": "code",
   "execution_count": 2,
   "id": "5",
   "metadata": {},
   "outputs": [
    {
     "name": "stdout",
     "output_type": "stream",
     "text": [
      "Distance from Warsaw to Poznan: 278.4581750754194 km\n",
      "Distance from Poznan to Torun: 171.71083521844025 km\n",
      "Distance from Torun to Krakow: 371.6468219937416 km\n",
      "Distance from Krakow to Wroclaw: 235.68847189713608 km\n",
      "Distance from Wroclaw to Krakow: 239.93109485110068 km\n"
     ]
    }
   ],
   "source": [
    "import math\n",
    "\n",
    "class Point:\n",
    "    def __init__(self, latitude, longitude, name=\"\"):\n",
    "        self.latitude = latitude\n",
    "        self.longitude = longitude\n",
    "        self.name = name\n",
    "\n",
    "    def distance_to(self, other_point):\n",
    "        # Haversine formula to calculate the distance between two points on the Earth\n",
    "        R = 6371  # Radius of the Earth in kilometers\n",
    "        lat1 = math.radians(self.latitude)\n",
    "        lon1 = math.radians(self.longitude)\n",
    "        lat2 = math.radians(other_point.latitude)\n",
    "        lon2 = math.radians(other_point.longitude)\n",
    "\n",
    "        dlat = lat2 - lat1\n",
    "        dlon = lon2 - lon1\n",
    "\n",
    "        a = math.sin(dlat / 2)**2 + math.cos(lat1) * math.cos(lat2) * math.sin(dlon / 2)**2\n",
    "        c = 2 * math.atan2(math.sqrt(a), math.sqrt(1 - a))\n",
    "\n",
    "        distance = R * c\n",
    "        return distance\n",
    "\n",
    "cities = [\n",
    "    Point(52.2296756, 21.0122287, \"Warsaw\"),\n",
    "    Point(52.406374, 16.9251681, \"Poznan\"),\n",
    "    Point(53.3498053, 18.951076, \"Torun\"),\n",
    "    Point(50.0646501, 19.9449799, \"Krakow\"),\n",
    "    Point(51.1078852, 17.0385376, \"Wroclaw\"),\n",
    "    Point(50.046943, 19.997711, \"Krakow\"),\n",
    "]\n",
    "\n",
    "for i in range(len(cities) - 1):\n",
    "    city1 = cities[i]\n",
    "    city2 = cities[i + 1]\n",
    "    print(f\"Distance from {city1.name} to {city2.name}: {city1.distance_to(city2)} km\")\n",
    "    "
   ]
  },
  {
   "cell_type": "markdown",
   "id": "6",
   "metadata": {},
   "source": [
    "## Exercise 4: Reading and Writing Files\n",
    "\n",
    "- Write a function `read_coordinates` that reads a file containing a list of coordinates (latitude, longitude) and returns them as a list of tuples.\n",
    "- Write another function `write_coordinates` that takes a list of coordinates and writes them to a new file.\n",
    "- Ensure that both functions handle exceptions, such as missing files or improperly formatted data."
   ]
  },
  {
   "cell_type": "code",
   "execution_count": 4,
   "id": "7",
   "metadata": {},
   "outputs": [
    {
     "name": "stdout",
     "output_type": "stream",
     "text": [
      "File saved\n",
      "Warsaw 52.2296756 21.0122287\n",
      "Poznan 52.406374 16.9251681\n",
      "Torun 53.3498053 18.951076\n",
      "Krakow 50.0646501 19.9449799\n",
      "Wroclaw 51.1078852 17.0385376\n",
      "Krakow 50.046943 19.997711\n"
     ]
    }
   ],
   "source": [
    "def read_coordinates(file_path):\n",
    "    with open(file_path, \"r\") as file:\n",
    "        lines = file.readlines()\n",
    "\n",
    "    points = []\n",
    "    for line in lines:\n",
    "        parts = line.split(\",\")\n",
    "        name = parts[0]\n",
    "        latitude = float(parts[1])\n",
    "        longitude = float(parts[2])\n",
    "        points.append(Point(latitude, longitude, name))\n",
    "        \n",
    "    if len(points) < 2:\n",
    "        raise ValueError(\"The file must contain at least two points\")\n",
    "\n",
    "    return points\n",
    "\n",
    "def write_coordinates(file_path, points):\n",
    "    with open(file_path, \"w\") as file:\n",
    "        for point in points:\n",
    "            file.write(f\"{point.name},{point.latitude},{point.longitude}\\n\")\n",
    "            \n",
    "    if file == None: \n",
    "        print(\"Error saving file\")\n",
    "    else:  \n",
    "        print(\"File saved\")\n",
    "            \n",
    "# Example usage\n",
    "coords = [\n",
    "    Point(52.2296756, 21.0122287, \"Warsaw\"),\n",
    "    Point(52.406374, 16.9251681, \"Poznan\"),\n",
    "    Point(53.3498053, 18.951076, \"Torun\"),\n",
    "    Point(50.0646501, 19.9449799, \"Krakow\"),\n",
    "    Point(51.1078852, 17.0385376, \"Wroclaw\"),\n",
    "    Point(50.046943, 19.997711, \"Krakow\"),\n",
    "]\n",
    "\n",
    "output_file = \"cities.csv\"\n",
    "bad_file = \"none.txt\"\n",
    "points = write_coordinates(output_file, coords)\n",
    "\n",
    "points = read_coordinates(output_file)\n",
    "# bad_points = read_coordinates(bad_file) # This will raise an exception\n",
    "# print(bad_points)\n",
    "\n",
    "for point in points:\n",
    "    print(point.name, point.latitude, point.longitude)\n"
   ]
  },
  {
   "cell_type": "markdown",
   "id": "8",
   "metadata": {},
   "source": [
    "## Exercise 5: Processing Coordinates from a File\n",
    "\n",
    "- Create a function that reads coordinates from a file and uses the `Point` class to create `Point` objects.\n",
    "- Calculate the distance between each consecutive pair of points and write the results to a new file.\n",
    "- Ensure the function handles file-related exceptions and gracefully handles improperly formatted lines."
   ]
  },
  {
   "cell_type": "code",
   "execution_count": null,
   "id": "9",
   "metadata": {},
   "outputs": [],
   "source": [
    "# Create a sample coordinates.txt file\n",
    "sample_data = \"\"\"35.6895,139.6917\n",
    "34.0522,-118.2437\n",
    "51.5074,-0.1278\n",
    "-33.8688,151.2093\n",
    "48.8566,2.3522\"\"\"\n",
    "\n",
    "output_file = \"coordinates.txt\"\n",
    "\n",
    "try:\n",
    "    with open(output_file, \"w\") as file:\n",
    "        file.write(sample_data)\n",
    "    print(f\"Sample file '{output_file}' has been created successfully.\")\n",
    "except Exception as e:\n",
    "    print(f\"An error occurred while creating the file: {e}\")"
   ]
  },
  {
   "cell_type": "code",
   "execution_count": null,
   "id": "10",
   "metadata": {},
   "outputs": [],
   "source": []
  },
  {
   "cell_type": "markdown",
   "id": "11",
   "metadata": {},
   "source": [
    "## Exercise 6: Exception Handling in Data Processing\n",
    "\n",
    "- Modify the `batch_distance_calculation` function to handle exceptions that might occur during the calculation, such as invalid coordinates.\n",
    "- Ensure the function skips invalid data and continues processing the remaining data."
   ]
  },
  {
   "cell_type": "code",
   "execution_count": null,
   "id": "12",
   "metadata": {},
   "outputs": [],
   "source": []
  },
  {
   "cell_type": "markdown",
   "id": "13",
   "metadata": {},
   "source": [
    "## Exercise 7: NumPy Array Operations and Geospatial Coordinates\n",
    "\n",
    "In this exercise, you will work with NumPy arrays representing geospatial coordinates (latitude and longitude) and perform basic array operations.\n",
    "\n",
    "1. Create a 2D NumPy array containing the latitude and longitude of the following cities: Tokyo (35.6895, 139.6917), New York (40.7128, -74.0060), London (51.5074, -0.1278), and Paris (48.8566, 2.3522).\n",
    "2. Convert the latitude and longitude values from degrees to radians using np.radians().\n",
    "3. Calculate the element-wise difference between Tokyo and the other cities' latitude and longitude in radians."
   ]
  },
  {
   "cell_type": "code",
   "execution_count": null,
   "id": "14",
   "metadata": {},
   "outputs": [],
   "source": []
  },
  {
   "cell_type": "markdown",
   "id": "15",
   "metadata": {},
   "source": [
    "## Exercise 8: Pandas DataFrame Operations with Geospatial Data\n",
    "\n",
    "In this exercise, you'll use Pandas to load and manipulate a dataset containing city population data, and then calculate and visualize statistics.\n",
    "\n",
    "1. Load the world cities dataset from this URL using Pandas: https://github.com/opengeos/datasets/releases/download/world/world_cities.csv\n",
    "2. Display the first 5 rows and check for missing values.\n",
    "3. Filter the dataset to only include cities with a population greater than 1 million.\n",
    "4. Group the cities by their country and calculate the total population for each country.\n",
    "5. Sort the cities by population in descending order and display the top 10 cities."
   ]
  },
  {
   "cell_type": "code",
   "execution_count": null,
   "id": "16",
   "metadata": {},
   "outputs": [],
   "source": []
  },
  {
   "cell_type": "markdown",
   "id": "17",
   "metadata": {},
   "source": [
    "## Exercise 9: Creating and Manipulating GeoDataFrames with GeoPandas\n",
    "\n",
    "This exercise focuses on creating and manipulating GeoDataFrames, performing spatial operations, and visualizing the data.\n",
    "\n",
    "1. Load the New York City building dataset from the GeoJSON file using GeoPandas: https://github.com/opengeos/datasets/releases/download/places/nyc_buildings.geojson\n",
    "2. Create a plot of the building footprints and color them based on the building height (use the `height_MS` column).\n",
    "3. Create an interactive map of the building footprints and color them based on the building height (use the `height_MS` column).\n",
    "4. Calculate the average building height (use the `height_MS` column).\n",
    "5. Select buildings with a height greater than the average height.\n",
    "6. Save the GeoDataFrame to a new GeoJSON file."
   ]
  },
  {
   "cell_type": "code",
   "execution_count": null,
   "id": "18",
   "metadata": {},
   "outputs": [],
   "source": []
  },
  {
   "cell_type": "markdown",
   "id": "19",
   "metadata": {},
   "source": [
    "## Exercise 10: Combining NumPy, Pandas, and GeoPandas\n",
    "\n",
    "This exercise requires you to combine the power of NumPy, Pandas, and GeoPandas to analyze and visualize spatial data.\n",
    "\n",
    "1. Use Pandas to load the world cities dataset from this URL: https://github.com/opengeos/datasets/releases/download/world/world_cities.csv\n",
    "2. Filter the dataset to include only cities with latitude values between -40 and 60 (i.e., cities located in the Northern Hemisphere or near the equator).\n",
    "3. Create a GeoDataFrame from the filtered dataset by converting the latitude and longitude into geometries.\n",
    "4. Reproject the GeoDataFrame to the Mercator projection (EPSG:3857).\n",
    "5. Calculate the distance (in meters) between each city and the city of Paris.\n",
    "6. Plot the cities on a world map, coloring the points by their distance from Paris."
   ]
  },
  {
   "cell_type": "code",
   "execution_count": null,
   "id": "20",
   "metadata": {},
   "outputs": [],
   "source": []
  },
  {
   "cell_type": "markdown",
   "id": "21",
   "metadata": {},
   "source": [
    "## Submission Requirements\n",
    "\n",
    "Complete the exercises above and and upload the notebook to your GitHub repository. Make sure the notebook has a Colab badge at the top so that it can be easily opened in Google Colab. Submit the URL of the notebook to Canvas."
   ]
  }
 ],
 "metadata": {
  "kernelspec": {
   "display_name": "510",
   "language": "python",
   "name": "python3"
  },
  "language_info": {
   "codemirror_mode": {
    "name": "ipython",
    "version": 3
   },
   "file_extension": ".py",
   "mimetype": "text/x-python",
   "name": "python",
   "nbconvert_exporter": "python",
   "pygments_lexer": "ipython3",
   "version": "3.12.8"
  }
 },
 "nbformat": 4,
 "nbformat_minor": 5
}
